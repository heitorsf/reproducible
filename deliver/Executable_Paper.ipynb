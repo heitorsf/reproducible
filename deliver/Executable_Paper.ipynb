{
 "cells": [
  {
   "cell_type": "markdown",
   "metadata": {},
   "source": [
    "# Computational model of the neuromuscular system\n",
    "\n",
    "#### Heitor Sanchez Fernandes"
   ]
  },
  {
   "cell_type": "markdown",
   "metadata": {},
   "source": [
    "## Software Requirements\n",
    "\n",
    "Please check https://github.com/heitorsf/reproducible/blob/master/README.md for instructions. The model runs over Jupyter Notebook with Python 2.7. The NEURON simulator can be downloaded at: https://www.neuron.yale.edu/neuron/download and the NetPyNE module can me installed via `pip install netpyne`."
   ]
  },
  {
   "cell_type": "markdown",
   "metadata": {},
   "source": [
    "## Objectives\n",
    "\n",
    "This work has the purpose of presenting a recently developed multiscalar model of the neuromuscular system based on the NEURON simulator and using Python as alternative interpreter. On top of that, it is intended to compare three different approaches for the distribution of motor neurons parameters."
   ]
  },
  {
   "cell_type": "markdown",
   "metadata": {},
   "source": [
    "## Methods\n",
    "\n",
    "The neuromuscular system is built on NEURON simulator with Python and uses the module NetPyNE to handle the neuronal network. The model comprises a motor nucleus composed of 120 alpha motor neurons (bicompartimental conduction-based model), a group of 400 artificial spike generating cells (stochastic point processes) used here to represent supraspinal commands, and 120 muscular units modelled as the impulse response of a critically damped second order system. Every motor neuron is connected to a muscular unit, resulting in 120 motor units. By stimulating the motor nucleus via supraspinal commands, the motor neurons fire actino potentials that propagates to the musculudar units, generating isometric force."
   ]
  },
  {
   "cell_type": "code",
   "execution_count": 1,
   "metadata": {},
   "outputs": [
    {
     "name": "stdout",
     "output_type": "stream",
     "text": [
      "\n",
      "*******\n",
      "  Note: NeuroML import failed; import/export functions for NeuroML will not be available. \n",
      "  Install the pyNeuroML & libNeuroML Python packages: https://www.neuroml.org/getneuroml\n",
      "*******\n",
      "\n",
      "Number of motor units of type S: 101\n",
      "Number of motor units os type FR: 17\n",
      "Number of motor units os type FF: 2\n",
      "\n",
      "Creating network of 2 cell populations on 1 hosts...\n",
      "  Number of cells on node 0: 520 \n",
      "  Done; cell creation time = 0.08 s.\n",
      "Making connections...\n",
      "  Number of connections on node 0: 14548 \n",
      "  Done; cell connection time = 1.07 s.\n",
      "  Number of stims on node 0: 0 \n",
      "  Done; cell stims creation time = 0.00 s.\n",
      "Recording 120 traces of 1 types on node 0\n"
     ]
    },
    {
     "ename": "TypeError",
     "evalue": "'NoneType' object is not iterable",
     "output_type": "error",
     "traceback": [
      "\u001b[0;31m---------------------------------------------------------------------------\u001b[0m",
      "\u001b[0;31mTypeError\u001b[0m                                 Traceback (most recent call last)",
      "\u001b[0;32m/work/Nerlab/ModeloSNM.py\u001b[0m in \u001b[0;36m<module>\u001b[0;34m()\u001b[0m\n\u001b[1;32m    276\u001b[0m \u001b[0;34m''' Create populations and NEURON objects '''\u001b[0m\u001b[0;34m\u001b[0m\u001b[0m\n\u001b[1;32m    277\u001b[0m \u001b[0;31m###############################################\u001b[0m\u001b[0;34m\u001b[0m\u001b[0;34m\u001b[0m\u001b[0m\n\u001b[0;32m--> 278\u001b[0;31m \u001b[0;34m(\u001b[0m\u001b[0mpops\u001b[0m\u001b[0;34m,\u001b[0m \u001b[0mcells\u001b[0m\u001b[0;34m,\u001b[0m \u001b[0mconns\u001b[0m\u001b[0;34m,\u001b[0m \u001b[0mstims\u001b[0m\u001b[0;34m,\u001b[0m \u001b[0msimData\u001b[0m\u001b[0;34m)\u001b[0m \u001b[0;34m=\u001b[0m \u001b[0msim\u001b[0m\u001b[0;34m.\u001b[0m\u001b[0mcreate\u001b[0m\u001b[0;34m(\u001b[0m\u001b[0mnetParams\u001b[0m\u001b[0;34m=\u001b[0m\u001b[0mnetParams\u001b[0m\u001b[0;34m,\u001b[0m \u001b[0msimConfig\u001b[0m\u001b[0;34m=\u001b[0m\u001b[0msimConfig\u001b[0m\u001b[0;34m,\u001b[0m \u001b[0moutput\u001b[0m\u001b[0;34m=\u001b[0m\u001b[0mFalse\u001b[0m\u001b[0;34m)\u001b[0m\u001b[0;34m\u001b[0m\u001b[0m\n\u001b[0m\u001b[1;32m    279\u001b[0m \u001b[0;34m\u001b[0m\u001b[0m\n\u001b[1;32m    280\u001b[0m \u001b[0;31m# Create a list of motor units\u001b[0m\u001b[0;34m\u001b[0m\u001b[0;34m\u001b[0m\u001b[0m\n",
      "\u001b[0;31mTypeError\u001b[0m: 'NoneType' object is not iterable"
     ]
    }
   ],
   "source": [
    "run ModeloSNM.py"
   ]
  },
  {
   "cell_type": "code",
   "execution_count": null,
   "metadata": {},
   "outputs": [],
   "source": []
  }
 ],
 "metadata": {
  "anaconda-cloud": {},
  "kernelspec": {
   "display_name": "Python 2",
   "language": "python",
   "name": "python2"
  },
  "language_info": {
   "codemirror_mode": {
    "name": "ipython",
    "version": 2
   },
   "file_extension": ".py",
   "mimetype": "text/x-python",
   "name": "python",
   "nbconvert_exporter": "python",
   "pygments_lexer": "ipython2",
   "version": "2.7.12"
  }
 },
 "nbformat": 4,
 "nbformat_minor": 1
}
