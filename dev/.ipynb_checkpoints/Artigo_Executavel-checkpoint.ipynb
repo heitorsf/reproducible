{
 "cells": [
  {
   "cell_type": "markdown",
   "metadata": {},
   "source": [
    "Este jupyter notebook é uma versão interativa do arquivo OnionSkin.py.\n",
    "\n",
    "# Introdução\n",
    "\n",
    "A simulação computacional de modelos matemáticos tem sido utilizada em neurociências e auxiliado o estudo e a compreensão de mecanismos envolvidos no funcionamento do sistema nervoso, que podem ser difíceis por meio exclusivo da experimentação. Especificamente, para o sistema neuromuscular humano, modelos matemáticos multiescala (que representam mecanismos operando em níveis celulares e/ou moleculares até elementos macroscópicos, como os processos de geração e controle da força muscular) têm possibilitado estudos sobre os comportamentos dinâmicos de redes de motoneurônios alfa (MNs) controlando a geração de força muscular [1-5]. Estes estudos fornecem subsídios conceituais para uma maior compreensão de aspectos neurofisiológicos do controle motor, como, por exemplo: i) os papéis do recrutamento e da modulação da frequência de disparos de potenciais de ação (PAs) na relação força-EMG [1]; ii) a atuação de vias de realimentação sensorial no controle da força muscular [2]; iii) o efeito de condições patológicas no controle reflexo da força [3]; e iv) o efeito de entradas neuromodulatórias na atividade de MNs individuais e na variabilidade da força muscular [4]. Além destas aplicações científicas importantes, modelos computacionais do sistema nervoso e muscular podem ser utilizados como ferramentas didáticas em cursos de Neurociências e Controle Motor [5]."
   ]
  },
  {
   "cell_type": "markdown",
   "metadata": {},
   "source": [
    "# Objetivos\n",
    "\n",
    "Neste estudo, o objetivo é o desenvolvimento de um modelo multiescala simplificado do sistema neuromuscular que seja reproduzível. O modelo foi concebido de forma a possuir plausibilidade biológica e eficiência computacional e para a implementação computacional dos modelos foram adotadas plataformas flexíveis e reconhecidas pela comunidade científica da área de Neurociências.Neste trabalho é apresentado um modelo computacional de um núcleo motor (composto por três motoneurônios alfa) e as respectivas unidades musculares. O modelo neuromuscular é constituído por unidades motoras dos tipos S, FR e FF, que foram implementadas computacionalmente utilizando a linguagem de programação Python e as bibliotecas do simulador NEURON."
   ]
  },
  {
   "cell_type": "markdown",
   "metadata": {},
   "source": [
    "# Métodos\n",
    "\n",
    "O modelo foi implementado em linguagem de programação Python (versão 2.7.13), que é uma linguagem livre, de fácil entendimento [6] e que vem sendo utilizada e difundida pela comunidade científica de Neurociência Computacional [7]. Os elementos neuronais foram implementados utilizando as bibliotecas do simulador NEURON [8] para a linguagem Python. A rede de MNs foi implementada utilizando o NetPyNE [9].\n",
    "\n",
    "O modelo neuromuscular desenvolvido é composto por apenas três MNs (modelo simplificado) e as fibras musculares por eles inervadas. As fibras musculares pertencentes a uma determinada unidade motora são referidas como unidades musculares (UMs). Os modelos individuais dos MNs e das UMs serão descritos abaixo.\n",
    "\n",
    "## Modelo de MN alpha\n",
    "Foram representados modelos de MNs dos tipos S (*slow*, que inerva fibras musculares lentas e resistentes à fadiga), FR (*fast fatigue resistant*, fibras rápidas e resistentes à fadiga) e FF (*fast fatigable*, fibras rápidas e fatigáveis). Estes modelos foram baseados na proposta de Cisi e Kohn [5], em que a morfologia dos MNs é sintetizada em dois compartimentos acoplados por uma condutância. Um compartimento representa a árvore dendrítica, que neste estudo foi suposta passiva, e o outro compartimento representa o corpo celular (ou soma). O circuito elétrico equivalente dos modelos está ilustrado na Figura 1. As condutâncias ativas somáticas são responsáveis pelo decurso temporal do PA e da AHP (*after hyperpolarization*). Estas condutâncias (Na+, K+, persistente de Na+ e lenta de K+) foram parametrizadas e validadas em um estudo anterior do nosso laboratório [10]. Os parâmetros geométricos e eletrotônicos (Tabela 1) foram baseados em estudos experimentais anteriores com MNs de gatos anestesiados [11-13]."
   ]
  },
  {
   "cell_type": "markdown",
   "metadata": {},
   "source": [
    "### Código: compilando os arquivos do modelo\n",
    "\n",
    "Este passo é importante para que os arquivos do tipo `.mod`, que descrevem os mecanismos celulares e a corrente injetada, sejam compilados e entendidos pelo simulador."
   ]
  },
  {
   "cell_type": "code",
   "execution_count": 1,
   "metadata": {
    "scrolled": true
   },
   "outputs": [
    {
     "name": "stdout",
     "output_type": "stream",
     "text": [
      "/work/reproducible/dev\n",
      "MODfiles/Force.mod MODfiles/IClampX.mod MODfiles/XClamp.mod MODfiles/caL.mod MODfiles/force_syn.mod MODfiles/napp.mod MODfiles/peakcount.mod MODfiles/refrac.mod\n",
      "Force.mod IClampX.mod XClamp.mod caL.mod force_syn.mod napp.mod peakcount.mod refrac.mod\n",
      "\"/work/nrn-7.4/share/nrn/libtool\" --tag=CC --mode=compile mpicc -DHAVE_CONFIG_H  -I. -I.. -I\"/work/nrn-7.4/include/nrn\" -I\"/work/nrn-7.4/x86_64/lib\"      -O3 -c -o mod_func.lo mod_func.c\n",
      "libtool: compile:  mpicc -DHAVE_CONFIG_H -I. -I.. -I/work/nrn-7.4/include/nrn -I/work/nrn-7.4/x86_64/lib -O3 -c mod_func.c  -fPIC -DPIC -o .libs/mod_func.o\n",
      "libtool: compile:  mpicc -DHAVE_CONFIG_H -I. -I.. -I/work/nrn-7.4/include/nrn -I/work/nrn-7.4/x86_64/lib -O3 -c mod_func.c -o mod_func.o >/dev/null 2>&1\n",
      "\"/work/nrn-7.4/share/nrn/libtool\" --tag=CC --mode=link mpicc -module  -O3    -o libnrnmech.la -rpath \"/work/nrn-7.4/x86_64/lib\"  Force.lo IClampX.lo XClamp.lo caL.lo force_syn.lo napp.lo peakcount.lo refrac.lo mod_func.lo  -L\"/work/nrn-7.4/x86_64/lib\" -lnrnoc -loc -lmemacs -lnrnmpi -lscopmath -lsparse13 -lreadline -lncurses -L\"/work/nrn-7.4/x86_64/lib\" \"/work/nrn-7.4/x86_64/lib/libnrniv.la\" -livoc -lneuron_gnu -lmeschach -lsundials -livos      -lm -ldl\n",
      "libtool: link: rm -fr  .libs/libnrnmech.a .libs/libnrnmech.la .libs/libnrnmech.lai .libs/libnrnmech.so .libs/libnrnmech.so.0 .libs/libnrnmech.so.0.0.0\n",
      "libtool: link: mpicc -shared  -fPIC -DPIC  .libs/Force.o .libs/IClampX.o .libs/XClamp.o .libs/caL.o .libs/force_syn.o .libs/napp.o .libs/peakcount.o .libs/refrac.o .libs/mod_func.o   -Wl,-rpath -Wl,/work/nrn-7.4/x86_64/lib -Wl,-rpath -Wl,/work/nrn-7.4/x86_64/lib -L/work/nrn-7.4/x86_64/lib /work/nrn-7.4/x86_64/lib/libnrnoc.so /work/nrn-7.4/x86_64/lib/liboc.so /work/nrn-7.4/x86_64/lib/libmemacs.so /work/nrn-7.4/x86_64/lib/libnrnmpi.so /work/nrn-7.4/x86_64/lib/libscopmath.so /work/nrn-7.4/x86_64/lib/libsparse13.so /work/nrn-7.4/x86_64/lib/libreadline.so -lncurses /work/nrn-7.4/x86_64/lib/libnrniv.so /work/nrn-7.4/x86_64/lib/libivoc.so /work/nrn-7.4/x86_64/lib/libneuron_gnu.so /work/nrn-7.4/x86_64/lib/libmeschach.so /work/nrn-7.4/x86_64/lib/libsundials.so /work/nrn-7.4/x86_64/lib/libivos.so -lm -ldl  -O3   -Wl,-soname -Wl,libnrnmech.so.0 -o .libs/libnrnmech.so.0.0.0\n",
      "libtool: link: (cd \".libs\" && rm -f \"libnrnmech.so.0\" && ln -s \"libnrnmech.so.0.0.0\" \"libnrnmech.so.0\")\n",
      "libtool: link: (cd \".libs\" && rm -f \"libnrnmech.so\" && ln -s \"libnrnmech.so.0.0.0\" \"libnrnmech.so\")\n",
      "libtool: link: ar cru .libs/libnrnmech.a  .libs/Force.o .libs/IClampX.o .libs/XClamp.o .libs/caL.o force_syn.o .libs/napp.o peakcount.o refrac.o mod_func.o\n",
      "ar: `u' modifier ignored since `D' is the default (see `U')\n",
      "libtool: link: ranlib .libs/libnrnmech.a\n",
      "libtool: link: ( cd \".libs\" && rm -f \"libnrnmech.la\" && ln -s \"../libnrnmech.la\" \"libnrnmech.la\" )\n",
      "Successfully created x86_64/special\n"
     ]
    }
   ],
   "source": [
    "!nrnivmodl MODfiles"
   ]
  },
  {
   "cell_type": "markdown",
   "metadata": {},
   "source": [
    "### Início do código em Python\n",
    "\n",
    "Primeiro, importam-se as bibiotecas e definem-se variáveis para facilitar o uso das bibliotecas:"
   ]
  },
  {
   "cell_type": "code",
   "execution_count": 2,
   "metadata": {},
   "outputs": [
    {
     "name": "stdout",
     "output_type": "stream",
     "text": [
      "\n",
      "*******\n",
      "  Note: NeuroML import failed; import/export functions for NeuroML will not be available. \n",
      "  Install the pyNeuroML & libNeuroML Python packages: https://www.neuroml.org/getneuroml\n",
      "*******\n",
      "\n"
     ]
    }
   ],
   "source": [
    "from netpyne import sim, specs\n",
    "import numpy as np\n",
    "from matplotlib import pyplot as plt\n",
    "import nerlabmodel as ner\n",
    "\n",
    "netParams = specs.NetParams()\n",
    "simConfig = specs.SimConfig()"
   ]
  },
  {
   "cell_type": "markdown",
   "metadata": {},
   "source": [
    "Em seguida, configura-se a população de três neurônios, no caso, população `Pop1` com células do tipo medular (`MED`) e de modelo com condutânica de sódio (`NAPP`), sendo estes identificadores criados neste momento."
   ]
  },
  {
   "cell_type": "code",
   "execution_count": 3,
   "metadata": {},
   "outputs": [],
   "source": [
    "netParams.popParams['Pop1'] = {'cellType': 'MED',\n",
    "                               'cellModel': 'NAPP',\n",
    "                               'numCells': 3}"
   ]
  },
  {
   "cell_type": "markdown",
   "metadata": {},
   "source": [
    "Abaixo, são definidas e configuradas as propriedades dos neurônios da população. A princípio todos os neurônios terão as mesmas propriedades."
   ]
  },
  {
   "cell_type": "code",
   "execution_count": 4,
   "metadata": {},
   "outputs": [],
   "source": [
    "cellRule = {'conds': {'cellType': 'MED', 'cellModel': 'NAPP'},\n",
    "            'secs': {'soma': {'geom': {'diam': 80, 'L': 80, 'Ra': 70,\n",
    "                                       'cm': 1, 'nseg': 1},\n",
    "                              'mechs': {'napp': {'gnabar': 0.05,\n",
    "                                                 'gnapbar': 0.00052,\n",
    "                                                 'gkfbar': 0.0028,\n",
    "                                                 'gksbar': 0.018,\n",
    "                                                 'mact': 13.0,\n",
    "                                                 'rinact': 0.025,\n",
    "                                                 'el': 0.0,\n",
    "                                                 'vtraub': 0.0,\n",
    "                                                 'gl': 1/1100.0}},\n",
    "                              'ions': {'na': {'e': 120},\n",
    "                                       'k': {'e': -10}},\n",
    "                              'vinit': 0},\n",
    "                     'dend': {'geom': {'diam': 52.0, 'L': 6150.0, 'Ra': 70.0,\n",
    "                                       'cm': 1, 'nseg': 1},\n",
    "                              'topol': {'parentSec': 'soma',\n",
    "                                        'parentX': 0,\n",
    "                                        'childX': 1},\n",
    "                              'mechs': {'pas': {'g': 1/12550.0, 'e': 0.0}},\n",
    "#                              'ions': {'caL': {'e': 140}},\n",
    "                              'vinit': 0}}}\n",
    "netParams.cellParams['HHNapp'] = cellRule"
   ]
  },
  {
   "cell_type": "markdown",
   "metadata": {},
   "source": [
    "Em seguida são descritas as características a corrente que será injetada nos neurônios, uma corrente triangular com 5000ms de duração e amplitude máxima de 22 nA. Depois das propriedades do estímulo, é descrita a conexão do estímulo com a população de neurônios, sendo a corrente injetada no compartimento `soma`."
   ]
  },
  {
   "cell_type": "code",
   "execution_count": 5,
   "metadata": {},
   "outputs": [],
   "source": [
    "current_amplitude = 22.\n",
    "current_duration = 5000."
   ]
  },
  {
   "cell_type": "code",
   "execution_count": 6,
   "metadata": {},
   "outputs": [],
   "source": [
    "netParams.stimSourceParams['Istep'] = {'type': 'IClampX',\n",
    "                                       'signal_type': 2, #triang\n",
    "                                       'delay': 20,\n",
    "                                       'risedur': current_duration/2.,\n",
    "                                       'falldur': current_duration/2.,\n",
    "                                       'amp': current_amplitude\n",
    "                                       }\n",
    "netParams.stimTargetParams['Istep->Pop1'] = {'source': 'Istep',\n",
    "                                             'conds': {'cellType': 'MED',\n",
    "                                                       'cellModel': 'NAPP'},\n",
    "                                             'sec': 'soma',\n",
    "                                             'loc': 0.5}"
   ]
  },
  {
   "cell_type": "markdown",
   "metadata": {},
   "source": [
    "Abaixo, definem-se a duração da simulação, o passo de integração e outras variáveis necessárias para o funcionamento do simulador. Logo após, são selecionados os dados provenientes da simulação que se deseja salvar, no caso, o decurso temporal do potencial de membrana de todos os neurônios (`v_soma`)."
   ]
  },
  {
   "cell_type": "code",
   "execution_count": 7,
   "metadata": {},
   "outputs": [],
   "source": [
    "simConfig.duration = current_duration + 220.\n",
    "simConfig.dt = 0.025\n",
    "simConfig.seeds = {'conn': 1, 'stim': 1, 'loc': 1}\n",
    "simConfig.createNEURONObj = True\n",
    "simConfig.createPyStruct = True\n",
    "simConfig.verbose = False\n",
    "simConfig.recordCells = ['all']\n",
    "simConfig.recordTraces = {'v_soma': {'sec':'soma', 'loc': 0.5, 'var': 'v'}}\n",
    "simConfig.recordStim = True\n",
    "simConfig.recordStep = simConfig.dt"
   ]
  },
  {
   "cell_type": "markdown",
   "metadata": {},
   "source": [
    "O comando a seguir cria todos os objetos descritos acima e armazena referências a eles em variáveis."
   ]
  },
  {
   "cell_type": "code",
   "execution_count": 8,
   "metadata": {},
   "outputs": [
    {
     "name": "stdout",
     "output_type": "stream",
     "text": [
      "\n",
      "Creating network of 1 cell populations on 1 hosts...\n",
      "  Number of cells on node 0: 3 \n",
      "  Done; cell creation time = 0.01 s.\n",
      "Making connections...\n",
      "  Number of connections on node 0: 0 \n",
      "  Done; cell connection time = 0.00 s.\n",
      "Adding stims...\n",
      "  Number of stims on node 0: 3 \n",
      "  Done; cell stims creation time = 0.00 s.\n",
      "Recording 6 traces of 2 types on node 0\n"
     ]
    }
   ],
   "source": [
    "(pops, cells, conns, stims, simData) = sim.create(netParams=netParams, simConfig=simConfig, output=True)"
   ]
  },
  {
   "cell_type": "markdown",
   "metadata": {},
   "source": [
    "Podemos inspecionar os objetos:"
   ]
  },
  {
   "cell_type": "code",
   "execution_count": 9,
   "metadata": {},
   "outputs": [
    {
     "data": {
      "text/plain": [
       "[<netpyne.cell.CompartCell at 0x7fcbb1648b90>,\n",
       " <netpyne.cell.CompartCell at 0x7fcbb1648a90>,\n",
       " <netpyne.cell.CompartCell at 0x7fcbb1648850>]"
      ]
     },
     "execution_count": 9,
     "metadata": {},
     "output_type": "execute_result"
    }
   ],
   "source": [
    "cells"
   ]
  },
  {
   "cell_type": "code",
   "execution_count": 10,
   "metadata": {},
   "outputs": [
    {
     "data": {
      "text/plain": [
       "{mechs: {pas: {e: 0.0, g: 7.968127490039841e-05}}, hSec: <nrn.Section object at 0x7fcb83295710>, geom: {nseg: 1, diam: 52.0, L: 6150.0, cm: 1, Ra: 70.0}, _repr_mimebundle_: {}, vinit: 0, topol: {childX: 1, parentSec: 'soma', parentX: 0}}"
      ]
     },
     "execution_count": 10,
     "metadata": {},
     "output_type": "execute_result"
    }
   ],
   "source": [
    "cells[0].secs.dend"
   ]
  },
  {
   "cell_type": "markdown",
   "metadata": {},
   "source": [
    "Agora, as propriedades os neurônios serão alteradas para que eles sejam diferentes entre si. As funções `mus`, `mufr` e `muff` alteram os parâmetros do soma e do dendrito de um neurônio tais que este represente um neurônio motor do tipo **S**, **FR** e **FF**, respectivamente. "
   ]
  },
  {
   "cell_type": "code",
   "execution_count": 11,
   "metadata": {},
   "outputs": [],
   "source": [
    "mutype = []\n",
    "for n in range(len(cells)):\n",
    "    soma = cells[n].secs.soma.hSec\n",
    "    dend = cells[n].secs.dend.hSec\n",
    "    if n == 0:\n",
    "        ner.mus(soma, dend)\n",
    "        mutype.append('S')\n",
    "    elif n == 1:\n",
    "        ner.mufr(soma, dend)\n",
    "        mutype.append('FR')\n",
    "    elif n == 2:\n",
    "        ner.muff(soma, dend)\n",
    "        mutype.append('FF')"
   ]
  },
  {
   "cell_type": "markdown",
   "metadata": {},
   "source": [
    "Então, a simulação é feita e os dados adquiridos."
   ]
  },
  {
   "cell_type": "code",
   "execution_count": 12,
   "metadata": {},
   "outputs": [
    {
     "name": "stdout",
     "output_type": "stream",
     "text": [
      "\n",
      "Running simulation for 5220.0 ms...\n",
      "  Done; run time = 0.70 s; real-time ratio: 7.42.\n",
      "\n",
      "Gathering data...\n",
      "  Done; gather time = 0.06 s.\n",
      "\n",
      "Analyzing...\n",
      "  Cells: 3\n",
      "  Connections: 0 (0.00 per cell)\n",
      "  Spikes: 196 (12.52 Hz)\n",
      "  Simulated time: 5.2 s; 1 workers\n",
      "  Run time: 0.70 s\n",
      "  Done; saving time = 0.00 s.\n",
      "  Done; plotting time = 0.00 s\n"
     ]
    }
   ],
   "source": [
    "sim.simulate()\n",
    "sim.analyze()"
   ]
  },
  {
   "cell_type": "markdown",
   "metadata": {},
   "source": [
    "Em seguida são feitas as análises pós-simulação. A partir dos dados gerados pelo simulador são criados os objetos python para manipulação usando a biblioteca `numpy`. São adquiridos o vetor tempo e os potenciais de membrana dos neurônios motorres no tempo."
   ]
  },
  {
   "cell_type": "code",
   "execution_count": 13,
   "metadata": {},
   "outputs": [],
   "source": [
    "t = np.array(simData.t.to_python())\n",
    "v_list = list()\n",
    "for i in pops['Pop1'].cellGids:\n",
    "    cell = 'cell_'+str(i)\n",
    "    v_list.append(np.array(simData['v_soma'][cell].to_python()))\n",
    "cells_v = np.array(v_list).transpose()"
   ]
  },
  {
   "cell_type": "markdown",
   "metadata": {},
   "source": [
    "Agora, por meio dos decursos temporais dos potenciais de membrana, os instantes de disparo de potenciais de ação (PA) são identificados. Logo após, estes instantes são utilizados para a geração da força de cada unidade muscular."
   ]
  },
  {
   "cell_type": "code",
   "execution_count": 14,
   "metadata": {},
   "outputs": [
    {
     "data": {
      "image/png": "[encoded data removed]",
      "text/plain": [
       "<matplotlib.figure.Figure at 0x7fcb82f6b3d0>"
      ]
     },
     "metadata": {},
     "output_type": "display_data"
    },
    {
     "data": {
      "image/png": "[encoded data removed]",
      "text/plain": [
       "<matplotlib.figure.Figure at 0x7fcb8259cd50>"
      ]
     },
     "metadata": {},
     "output_type": "display_data"
    }
   ],
   "source": [
    "spkt, spkv = ner.getSpikes(t, cells_v, 20, output=True, plotRaster=True, newfigure=True)\n",
    "force = ner.forceSOF(spkt, t, mutype)"
   ]
  },
  {
   "cell_type": "markdown",
   "metadata": {},
   "source": [
    "Note o funcionamento do mecanismo de saturação da força, principalmente na unidade muscular do tipo FF. Neste modelo simplificado a saturação é feita limitando o valor máximo da força.\n",
    "Em seguida são calculadas as frequências instantâneas de disparo de cada neurônio."
   ]
  },
  {
   "cell_type": "code",
   "execution_count": 15,
   "metadata": {},
   "outputs": [],
   "source": [
    "ifreq = 1000./np.diff(spkt)\n",
    "midtimes = spkt[:,1:] - np.diff(spkt)/2.\n",
    "#midtimes[1,51]=0\n",
    "#midtimes[2,28]=0"
   ]
  },
  {
   "cell_type": "markdown",
   "metadata": {},
   "source": [
    "Abaixo, são plotados em um mesmo gráfico a frequência instantânea de cada neurônio motor (circulos coloridos preenchidos), a força muscular total (linha preta) e os instantes de disparo dos potenciais de ação (traços verticais na parte inferior da figura)."
   ]
  },
  {
   "cell_type": "code",
   "execution_count": 16,
   "metadata": {},
   "outputs": [
    {
     "data": {
      "image/png": "[encoded data removed]",
      "text/plain": [
       "<matplotlib.figure.Figure at 0x7fcb821f1cd0>"
      ]
     },
     "metadata": {},
     "output_type": "display_data"
    }
   ],
   "source": [
    "fig,ax = plt.subplots()\n",
    "#plt.plot(t, force[:,:t.size].transpose(), 'k')\n",
    "#plt.plot(t, force.sum(axis=0))\n",
    "#plt.plot(t, force.transpose())\n",
    "#plt.plot(spkt[:,1:-1].transpose(),ifreq[:,:-1].transpose(),'.')\n",
    "for cell in range(min(spkt.shape)):\n",
    "    if cell == 0:\n",
    "        ax.plot(spkt[cell,:], -6*np.ones(max(spkt.shape)), '|b',\n",
    "                markeredgewidth=1.2, markersize=10)\n",
    "        ax.plot(midtimes[cell,:-1].transpose(),ifreq[cell,:-1].transpose(),\n",
    "                '.b', label='Tipo S')\n",
    "    elif cell == 1:\n",
    "        ax.plot(spkt[cell,:], -4*np.ones(max(spkt.shape)), '|g',\n",
    "                markeredgewidth=1.2, markersize=10)\n",
    "        ax.plot(midtimes[cell,:-1].transpose(),ifreq[cell,:-1].transpose(),\n",
    "                '.g',label='Tipo FR')\n",
    "    elif cell == 2:\n",
    "        ax.plot(spkt[cell,:], -2*np.ones(max(spkt.shape)), '|m',\n",
    "                markeredgewidth=1.2, markersize=10)\n",
    "        ax.plot(midtimes[cell,:-1].transpose(),ifreq[cell,:-1].transpose(),\n",
    "                '.m',label='Tipo FF')\n",
    "ax.plot(0,0,'-k', label=u'For\\u00e7a')\n",
    "ax.set_xlim((20,simConfig.duration))#5000))\n",
    "ax.set_ylim(ymin=-8)\n",
    "ax.hlines(0,20,5000,'grey')\n",
    "ax.set_ylabel(u'Frequência de disparo [Hz]')\n",
    "ax.set_xlabel('tempo [ms]')\n",
    "ax.legend(fontsize='small', loc='best')\n",
    "ax.text(simConfig.duration*.7,-4, \"Instantes de disparo\")#, bbox=dict(facecolor='white'))\n",
    "ax2 = ax.twinx()\n",
    "ax2.plot(t,force.sum(axis=0), '-k')\n",
    "ax2.set_xlim((20,simConfig.duration))#5000))\n",
    "ax2.set_ylim((-6.8,50/1.2)) #5.0/1.2))\n",
    "ax2.set_ylabel(u'Força [N]')\n",
    "\n",
    "fig.tight_layout()\n",
    "plt.show()\n"
   ]
  },
  {
   "cell_type": "markdown",
   "metadata": {},
   "source": [
    "## Princípio do tamanho e geração da força muscular\n",
    "\n",
    "Na parte inferior do gráfico acima estão indicados os instantes de disparos dos MNs de cada tipo (S em azul, FR em verde e FF em magenta). Os pontos na parte superior do gráfico indicam as frequências instantâneas de disparo dos MNs (mesmo código de cores) e a linha preta contínua representa a força total exercida pelo modelo simplificado de músculo. Nota-se que a unidade motora do tipo S é a primeira a ser recrutada, pois seu MN possui uma menor área celular e, consequentemente, uma maior resistência de entrada. Por outro lado, a unidade motora do tipo FF é a última a ser recrutada, pois o MN possui uma maior área celular e menor resistência de entrada. Além disso, observa-se nos resultados a ordem inversa de derrecrutamento, com a unidade motora de maior limiar (tipo FF) sendo derrecrutada primeiro e a de menor limiar (tipo S) por último.\n",
    "\n",
    "Do ponto de vista das frequências de disparos de PAs, observa-se que as unidades motoras recrutadas com um menor limiar atingem taxas de disparos maiores em comparação com as unidades motoras de maior limiar, para uma mesma magnitude da corrente de estimulação.\n",
    "\n",
    "Quanto à geração da força muscular, nota-se no gráfico (linha preta) que a unidade motora do tipo S gera uma força relativamente pequena, mesmo com o aumento da sua frequência de disparos (pontos azuis) devido à menor amplitude dos abalos musculares e à força tetânica. À medida que novas unidades motoras são recrutadas (dos tipos FR e FF) a força aumenta, tanto pelo fato de estas unidades motoras produzirem abalos de maior magnitude, quanto por aumentarem as suas frequências de disparos (devido ao aumento da despolarização da membrana dos MNs pela corrente triangular). Observa-se, ainda, que quando as unidades motoras de maior limiar são recrutadas há um aumento na flutuação da força, pois os abalos não fundidos destas unidades motoras são mais evidentes."
   ]
  },
  {
   "cell_type": "markdown",
   "metadata": {},
   "source": [
    "## Sugestão de interação\n",
    "\n",
    "Tente agora alterar os parâmetros do modelo para observar seu funcionamento. Sugere-se alterar a amplitude da corrente injetada (`current_amplitude`) para observar como as frequências de disparo dos neurônios motores irá mudar. Pode-se, também, alterar a duração da corrente (`current_duration`) afim de ter poucos disparos e observar a relação temporal entre os disparos dos potenciais de ação e a geração da força.\n",
    "\n",
    "Outra interação interessante é alterar a população de neurônios. Tente modificar o modela para que todos os neurônios sejam do tipo S, por exemplo, alterando de maneira que todos os neurônios passem pela função `ner.mus`. Abaixo está o trecho de código que deve ser encontrado para essa alteração.\n",
    "```python\n",
    "mutype = []\n",
    "for n in range(len(cells)):\n",
    "    soma = cells[n].secs.soma.hSec\n",
    "    dend = cells[n].secs.dend.hSec\n",
    "    if n == 0:\n",
    "        ner.mus(soma, dend)\n",
    "        mutype.append('S')\n",
    "    elif n == 1:\n",
    "        ner.mufr(soma, dend)\n",
    "        mutype.append('FR')\n",
    "    elif n == 2:\n",
    "        ner.muff(soma, dend)\n",
    "        mutype.append('FF')\n",
    "```  "
   ]
  },
  {
   "cell_type": "markdown",
   "metadata": {},
   "source": [
    "# Discussão\n",
    "\n",
    "O modelo do sistema neuromuscular proposto neste estudo representa as características básicas do sistema neuromuscular para o controle e a geração da força muscular. Desenvolvimentos posteriores, utilizando como base este modelo neuromuscular, terão como foco a modelagem de núcleos motores com um maior número de MNs, bem como UMs parametrizadas com base em dados de músculos esqueléticos de seres humanos. Desta forma, será possível comparar os resultados dos modelos com dados experimentais e explorar conceitualmente como mecanismos neurofisiológicos podem ser associados ao controle da força de um dado músculo."
   ]
  }
 ],
 "metadata": {
  "kernelspec": {
   "display_name": "Python 2",
   "language": "python",
   "name": "python2"
  },
  "language_info": {
   "codemirror_mode": {
    "name": "ipython",
    "version": 2
   },
   "file_extension": ".py",
   "mimetype": "text/x-python",
   "name": "python",
   "nbconvert_exporter": "python",
   "pygments_lexer": "ipython2",
   "version": "2.7.12"
  }
 },
 "nbformat": 4,
 "nbformat_minor": 2
}
